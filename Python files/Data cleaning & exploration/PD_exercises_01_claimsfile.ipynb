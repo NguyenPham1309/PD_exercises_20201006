{
 "cells": [
  {
   "cell_type": "code",
   "execution_count": 2,
   "metadata": {},
   "outputs": [
    {
     "data": {
      "text/html": [
       "<style>.container { width:95% !important; }</style>"
      ],
      "text/plain": [
       "<IPython.core.display.HTML object>"
      ]
     },
     "metadata": {},
     "output_type": "display_data"
    }
   ],
   "source": [
    "import pandas as pd\n",
    "import numpy as np\n",
    "import matplotlib.pyplot as plt\n",
    "import matplotlib.dates as mdates\n",
    "import math, os, glob\n",
    "import seaborn as sns\n",
    "import sys\n",
    "from datetime import datetime, timedelta\n",
    "pd.set_option('display.max_rows', None)\n",
    "pd.set_option('display.max_columns', 500)\n",
    "pd.set_option('display.float_format', lambda x: '%.3f' % x)\n",
    "from pandas.plotting import register_matplotlib_converters\n",
    "register_matplotlib_converters()\n",
    "\n",
    "import statsmodels\n",
    "import pickle\n",
    "%matplotlib inline\n",
    "\n",
    "from sklearn.linear_model import Ridge, LinearRegression\n",
    "from sklearn.metrics import mean_squared_error, r2_score\n",
    "\n",
    "from IPython.core.display import display, HTML\n",
    "display(HTML(\"<style>.container { width:95% !important; }</style>\"))"
   ]
  },
  {
   "cell_type": "code",
   "execution_count": 3,
   "metadata": {},
   "outputs": [],
   "source": [
    "claims = pd.read_csv('C:/Users/Nguyen/AIA/PD exercises/Claims.csv')\n",
    "members = pd.read_csv('C:/Users/Nguyen/AIA/PD exercises/Members.csv')\n",
    "drug_count = pd.read_csv('C:/Users/Nguyen/AIA/PD exercises/DrugCount.csv')\n",
    "lab_count = pd.read_csv('C:/Users/Nguyen/AIA/PD exercises/LabCount.csv')\n",
    "Days_inhospital2 = pd.read_csv('C:/Users/Nguyen/AIA/PD exercises/DaysInHospital_Y2.csv')\n",
    "Days_inhospital3 = pd.read_csv('C:/Users/Nguyen/AIA/PD exercises/DaysInHospital_Y3.csv')\n",
    "Primary_Condescription = pd.read_csv('C:/Users/Nguyen/AIA/PD exercises/LookupPrimaryConditionGroup.csv')\n",
    "Procedure_Condescription = pd.read_csv('C:/Users/Nguyen/AIA/PD exercises/LookupProcedureGroup.csv')"
   ]
  },
  {
   "cell_type": "code",
   "execution_count": 4,
   "metadata": {},
   "outputs": [
    {
     "data": {
      "text/plain": [
       "0     64269\n",
       "1      4835\n",
       "2      2366\n",
       "3      1453\n",
       "4       977\n",
       "5       565\n",
       "6       373\n",
       "15      261\n",
       "7       256\n",
       "8       173\n",
       "9       148\n",
       "10      106\n",
       "11       80\n",
       "12       73\n",
       "13       61\n",
       "14       42\n",
       "Name: DaysInHospital, dtype: int64"
      ]
     },
     "execution_count": 4,
     "metadata": {},
     "output_type": "execute_result"
    }
   ],
   "source": [
    "Days_inhospital2 .describe()\n",
    "Days_inhospital2['DaysInHospital'].value_counts()"
   ]
  },
  {
   "cell_type": "code",
   "execution_count": 5,
   "metadata": {},
   "outputs": [
    {
     "name": "stdout",
     "output_type": "stream",
     "text": [
      "(2668990, 14)\n"
     ]
    }
   ],
   "source": [
    "print(claims.shape)"
   ]
  },
  {
   "cell_type": "code",
   "execution_count": 6,
   "metadata": {},
   "outputs": [
    {
     "name": "stdout",
     "output_type": "stream",
     "text": [
      "(113000, 3)\n"
     ]
    }
   ],
   "source": [
    "print(members.shape)"
   ]
  },
  {
   "cell_type": "code",
   "execution_count": 7,
   "metadata": {},
   "outputs": [
    {
     "name": "stdout",
     "output_type": "stream",
     "text": [
      "(818241, 4)\n"
     ]
    }
   ],
   "source": [
    "print(drug_count.shape)"
   ]
  },
  {
   "cell_type": "code",
   "execution_count": 8,
   "metadata": {},
   "outputs": [
    {
     "name": "stdout",
     "output_type": "stream",
     "text": [
      "(361484, 4)\n"
     ]
    }
   ],
   "source": [
    "print(lab_count.shape)"
   ]
  },
  {
   "cell_type": "code",
   "execution_count": 9,
   "metadata": {},
   "outputs": [
    {
     "name": "stdout",
     "output_type": "stream",
     "text": [
      "(76038, 3)\n"
     ]
    }
   ],
   "source": [
    "print(Days_inhospital2.shape)"
   ]
  },
  {
   "cell_type": "code",
   "execution_count": 10,
   "metadata": {},
   "outputs": [
    {
     "name": "stdout",
     "output_type": "stream",
     "text": [
      "(71435, 3)\n"
     ]
    }
   ],
   "source": [
    "print(Days_inhospital3.shape)"
   ]
  },
  {
   "cell_type": "code",
   "execution_count": 11,
   "metadata": {},
   "outputs": [
    {
     "data": {
      "text/plain": [
       "MemberID                 2668990\n",
       "ProviderID               2652726\n",
       "Vendor                   2644134\n",
       "PCP                      2661498\n",
       "Year                     2668990\n",
       "Specialty                2660585\n",
       "PlaceSvc                 2661358\n",
       "PayDelay                 2668990\n",
       "LengthOfStay               71598\n",
       "DSFS                     2616220\n",
       "PrimaryConditionGroup    2657580\n",
       "CharlsonIndex            2668990\n",
       "ProcedureGroup           2665315\n",
       "SupLOS                   2668990\n",
       "dtype: int64"
      ]
     },
     "execution_count": 11,
     "metadata": {},
     "output_type": "execute_result"
    }
   ],
   "source": [
    "claims.count()"
   ]
  },
  {
   "cell_type": "code",
   "execution_count": 12,
   "metadata": {},
   "outputs": [
    {
     "data": {
      "text/plain": [
       "MemberID                   int64\n",
       "ProviderID               float64\n",
       "Vendor                   float64\n",
       "PCP                      float64\n",
       "Year                      object\n",
       "Specialty                 object\n",
       "PlaceSvc                  object\n",
       "PayDelay                  object\n",
       "LengthOfStay              object\n",
       "DSFS                      object\n",
       "PrimaryConditionGroup     object\n",
       "CharlsonIndex             object\n",
       "ProcedureGroup            object\n",
       "SupLOS                     int64\n",
       "dtype: object"
      ]
     },
     "execution_count": 12,
     "metadata": {},
     "output_type": "execute_result"
    }
   ],
   "source": [
    "claims.dtypes"
   ]
  },
  {
   "cell_type": "code",
   "execution_count": 13,
   "metadata": {},
   "outputs": [
    {
     "data": {
      "text/html": [
       "<div>\n",
       "<style scoped>\n",
       "    .dataframe tbody tr th:only-of-type {\n",
       "        vertical-align: middle;\n",
       "    }\n",
       "\n",
       "    .dataframe tbody tr th {\n",
       "        vertical-align: top;\n",
       "    }\n",
       "\n",
       "    .dataframe thead th {\n",
       "        text-align: right;\n",
       "    }\n",
       "</style>\n",
       "<table border=\"1\" class=\"dataframe\">\n",
       "  <thead>\n",
       "    <tr style=\"text-align: right;\">\n",
       "      <th></th>\n",
       "      <th>MemberID</th>\n",
       "      <th>ProviderID</th>\n",
       "      <th>Vendor</th>\n",
       "      <th>PCP</th>\n",
       "      <th>Year</th>\n",
       "      <th>Specialty</th>\n",
       "      <th>PlaceSvc</th>\n",
       "      <th>PayDelay</th>\n",
       "      <th>LengthOfStay</th>\n",
       "      <th>DSFS</th>\n",
       "      <th>PrimaryConditionGroup</th>\n",
       "      <th>CharlsonIndex</th>\n",
       "      <th>ProcedureGroup</th>\n",
       "      <th>SupLOS</th>\n",
       "    </tr>\n",
       "  </thead>\n",
       "  <tbody>\n",
       "    <tr>\n",
       "      <th>0</th>\n",
       "      <td>42286978</td>\n",
       "      <td>8013252.000</td>\n",
       "      <td>172193.000</td>\n",
       "      <td>37796.000</td>\n",
       "      <td>Y1</td>\n",
       "      <td>Surgery</td>\n",
       "      <td>Office</td>\n",
       "      <td>28</td>\n",
       "      <td>NaN</td>\n",
       "      <td>8- 9 months</td>\n",
       "      <td>NEUMENT</td>\n",
       "      <td>0</td>\n",
       "      <td>MED</td>\n",
       "      <td>0</td>\n",
       "    </tr>\n",
       "    <tr>\n",
       "      <th>1</th>\n",
       "      <td>97903248</td>\n",
       "      <td>3316066.000</td>\n",
       "      <td>726296.000</td>\n",
       "      <td>5300.000</td>\n",
       "      <td>Y3</td>\n",
       "      <td>Internal</td>\n",
       "      <td>Office</td>\n",
       "      <td>50</td>\n",
       "      <td>NaN</td>\n",
       "      <td>7- 8 months</td>\n",
       "      <td>NEUMENT</td>\n",
       "      <td>1-2</td>\n",
       "      <td>EM</td>\n",
       "      <td>0</td>\n",
       "    </tr>\n",
       "    <tr>\n",
       "      <th>2</th>\n",
       "      <td>2759427</td>\n",
       "      <td>2997752.000</td>\n",
       "      <td>140343.000</td>\n",
       "      <td>91972.000</td>\n",
       "      <td>Y3</td>\n",
       "      <td>Internal</td>\n",
       "      <td>Office</td>\n",
       "      <td>14</td>\n",
       "      <td>NaN</td>\n",
       "      <td>0- 1 month</td>\n",
       "      <td>METAB3</td>\n",
       "      <td>0</td>\n",
       "      <td>EM</td>\n",
       "      <td>0</td>\n",
       "    </tr>\n",
       "    <tr>\n",
       "      <th>3</th>\n",
       "      <td>73570559</td>\n",
       "      <td>7053364.000</td>\n",
       "      <td>240043.000</td>\n",
       "      <td>70119.000</td>\n",
       "      <td>Y3</td>\n",
       "      <td>Laboratory</td>\n",
       "      <td>Independent Lab</td>\n",
       "      <td>24</td>\n",
       "      <td>NaN</td>\n",
       "      <td>5- 6 months</td>\n",
       "      <td>METAB3</td>\n",
       "      <td>1-2</td>\n",
       "      <td>SCS</td>\n",
       "      <td>0</td>\n",
       "    </tr>\n",
       "    <tr>\n",
       "      <th>4</th>\n",
       "      <td>11837054</td>\n",
       "      <td>7557061.000</td>\n",
       "      <td>496247.000</td>\n",
       "      <td>68968.000</td>\n",
       "      <td>Y2</td>\n",
       "      <td>Surgery</td>\n",
       "      <td>Outpatient Hospital</td>\n",
       "      <td>27</td>\n",
       "      <td>NaN</td>\n",
       "      <td>4- 5 months</td>\n",
       "      <td>FXDISLC</td>\n",
       "      <td>1-2</td>\n",
       "      <td>EM</td>\n",
       "      <td>0</td>\n",
       "    </tr>\n",
       "  </tbody>\n",
       "</table>\n",
       "</div>"
      ],
      "text/plain": [
       "   MemberID  ProviderID     Vendor       PCP Year   Specialty  \\\n",
       "0  42286978 8013252.000 172193.000 37796.000   Y1     Surgery   \n",
       "1  97903248 3316066.000 726296.000  5300.000   Y3    Internal   \n",
       "2   2759427 2997752.000 140343.000 91972.000   Y3    Internal   \n",
       "3  73570559 7053364.000 240043.000 70119.000   Y3  Laboratory   \n",
       "4  11837054 7557061.000 496247.000 68968.000   Y2     Surgery   \n",
       "\n",
       "              PlaceSvc PayDelay LengthOfStay         DSFS  \\\n",
       "0               Office       28          NaN  8- 9 months   \n",
       "1               Office       50          NaN  7- 8 months   \n",
       "2               Office       14          NaN   0- 1 month   \n",
       "3      Independent Lab       24          NaN  5- 6 months   \n",
       "4  Outpatient Hospital       27          NaN  4- 5 months   \n",
       "\n",
       "  PrimaryConditionGroup CharlsonIndex ProcedureGroup  SupLOS  \n",
       "0               NEUMENT             0            MED       0  \n",
       "1               NEUMENT           1-2             EM       0  \n",
       "2                METAB3             0             EM       0  \n",
       "3                METAB3           1-2            SCS       0  \n",
       "4               FXDISLC           1-2             EM       0  "
      ]
     },
     "execution_count": 13,
     "metadata": {},
     "output_type": "execute_result"
    }
   ],
   "source": [
    "claims.head(5)"
   ]
  },
  {
   "cell_type": "code",
   "execution_count": 14,
   "metadata": {},
   "outputs": [
    {
     "data": {
      "text/plain": [
       "count     71598\n",
       "unique       10\n",
       "top       1 day\n",
       "freq      56696\n",
       "Name: LengthOfStay, dtype: object"
      ]
     },
     "execution_count": 14,
     "metadata": {},
     "output_type": "execute_result"
    }
   ],
   "source": [
    "#Xem xét về giá trị của LengthOfStay trong file Claims\n",
    "claims[claims.LengthOfStay.notnull()][\"MemberID\"].count()\n",
    "claims[claims.LengthOfStay.notnull()][\"LengthOfStay\"].describe()"
   ]
  },
  {
   "cell_type": "code",
   "execution_count": 15,
   "metadata": {},
   "outputs": [
    {
     "data": {
      "text/html": [
       "<div>\n",
       "<style scoped>\n",
       "    .dataframe tbody tr th:only-of-type {\n",
       "        vertical-align: middle;\n",
       "    }\n",
       "\n",
       "    .dataframe tbody tr th {\n",
       "        vertical-align: top;\n",
       "    }\n",
       "\n",
       "    .dataframe thead th {\n",
       "        text-align: right;\n",
       "    }\n",
       "</style>\n",
       "<table border=\"1\" class=\"dataframe\">\n",
       "  <thead>\n",
       "    <tr style=\"text-align: right;\">\n",
       "      <th></th>\n",
       "      <th>MemberID</th>\n",
       "      <th>ProviderID</th>\n",
       "      <th>Vendor</th>\n",
       "      <th>PCP</th>\n",
       "      <th>Year</th>\n",
       "      <th>Specialty</th>\n",
       "      <th>PlaceSvc</th>\n",
       "      <th>PayDelay</th>\n",
       "      <th>DSFS</th>\n",
       "      <th>PrimaryConditionGroup</th>\n",
       "      <th>CharlsonIndex</th>\n",
       "      <th>ProcedureGroup</th>\n",
       "      <th>SupLOS</th>\n",
       "    </tr>\n",
       "    <tr>\n",
       "      <th>LengthOfStay</th>\n",
       "      <th></th>\n",
       "      <th></th>\n",
       "      <th></th>\n",
       "      <th></th>\n",
       "      <th></th>\n",
       "      <th></th>\n",
       "      <th></th>\n",
       "      <th></th>\n",
       "      <th></th>\n",
       "      <th></th>\n",
       "      <th></th>\n",
       "      <th></th>\n",
       "      <th></th>\n",
       "    </tr>\n",
       "  </thead>\n",
       "  <tbody>\n",
       "    <tr>\n",
       "      <th>1 day</th>\n",
       "      <td>56696</td>\n",
       "      <td>55550</td>\n",
       "      <td>55519</td>\n",
       "      <td>56275</td>\n",
       "      <td>56696</td>\n",
       "      <td>56531</td>\n",
       "      <td>56446</td>\n",
       "      <td>56696</td>\n",
       "      <td>52855</td>\n",
       "      <td>55916</td>\n",
       "      <td>56696</td>\n",
       "      <td>56481</td>\n",
       "      <td>56696</td>\n",
       "    </tr>\n",
       "    <tr>\n",
       "      <th>1- 2 weeks</th>\n",
       "      <td>1143</td>\n",
       "      <td>1053</td>\n",
       "      <td>1053</td>\n",
       "      <td>1083</td>\n",
       "      <td>1143</td>\n",
       "      <td>1134</td>\n",
       "      <td>1143</td>\n",
       "      <td>1143</td>\n",
       "      <td>1054</td>\n",
       "      <td>991</td>\n",
       "      <td>1143</td>\n",
       "      <td>1141</td>\n",
       "      <td>1143</td>\n",
       "    </tr>\n",
       "    <tr>\n",
       "      <th>2 days</th>\n",
       "      <td>6485</td>\n",
       "      <td>6406</td>\n",
       "      <td>6401</td>\n",
       "      <td>6423</td>\n",
       "      <td>6485</td>\n",
       "      <td>6445</td>\n",
       "      <td>6448</td>\n",
       "      <td>6485</td>\n",
       "      <td>5394</td>\n",
       "      <td>6072</td>\n",
       "      <td>6485</td>\n",
       "      <td>6441</td>\n",
       "      <td>6485</td>\n",
       "    </tr>\n",
       "    <tr>\n",
       "      <th>2- 4 weeks</th>\n",
       "      <td>961</td>\n",
       "      <td>893</td>\n",
       "      <td>893</td>\n",
       "      <td>932</td>\n",
       "      <td>961</td>\n",
       "      <td>955</td>\n",
       "      <td>961</td>\n",
       "      <td>961</td>\n",
       "      <td>901</td>\n",
       "      <td>908</td>\n",
       "      <td>961</td>\n",
       "      <td>945</td>\n",
       "      <td>961</td>\n",
       "    </tr>\n",
       "    <tr>\n",
       "      <th>26+ weeks</th>\n",
       "      <td>2</td>\n",
       "      <td>0</td>\n",
       "      <td>0</td>\n",
       "      <td>1</td>\n",
       "      <td>2</td>\n",
       "      <td>2</td>\n",
       "      <td>2</td>\n",
       "      <td>2</td>\n",
       "      <td>2</td>\n",
       "      <td>2</td>\n",
       "      <td>2</td>\n",
       "      <td>2</td>\n",
       "      <td>2</td>\n",
       "    </tr>\n",
       "    <tr>\n",
       "      <th>3 days</th>\n",
       "      <td>3246</td>\n",
       "      <td>3217</td>\n",
       "      <td>3214</td>\n",
       "      <td>3228</td>\n",
       "      <td>3246</td>\n",
       "      <td>3246</td>\n",
       "      <td>3236</td>\n",
       "      <td>3246</td>\n",
       "      <td>2789</td>\n",
       "      <td>2991</td>\n",
       "      <td>3246</td>\n",
       "      <td>3223</td>\n",
       "      <td>3246</td>\n",
       "    </tr>\n",
       "    <tr>\n",
       "      <th>4 days</th>\n",
       "      <td>1473</td>\n",
       "      <td>1447</td>\n",
       "      <td>1447</td>\n",
       "      <td>1454</td>\n",
       "      <td>1473</td>\n",
       "      <td>1473</td>\n",
       "      <td>1473</td>\n",
       "      <td>1473</td>\n",
       "      <td>1316</td>\n",
       "      <td>1311</td>\n",
       "      <td>1473</td>\n",
       "      <td>1470</td>\n",
       "      <td>1473</td>\n",
       "    </tr>\n",
       "    <tr>\n",
       "      <th>4- 8 weeks</th>\n",
       "      <td>903</td>\n",
       "      <td>877</td>\n",
       "      <td>877</td>\n",
       "      <td>891</td>\n",
       "      <td>903</td>\n",
       "      <td>903</td>\n",
       "      <td>902</td>\n",
       "      <td>903</td>\n",
       "      <td>830</td>\n",
       "      <td>846</td>\n",
       "      <td>903</td>\n",
       "      <td>899</td>\n",
       "      <td>903</td>\n",
       "    </tr>\n",
       "    <tr>\n",
       "      <th>5 days</th>\n",
       "      <td>510</td>\n",
       "      <td>496</td>\n",
       "      <td>496</td>\n",
       "      <td>502</td>\n",
       "      <td>510</td>\n",
       "      <td>510</td>\n",
       "      <td>509</td>\n",
       "      <td>510</td>\n",
       "      <td>464</td>\n",
       "      <td>422</td>\n",
       "      <td>510</td>\n",
       "      <td>507</td>\n",
       "      <td>510</td>\n",
       "    </tr>\n",
       "    <tr>\n",
       "      <th>6 days</th>\n",
       "      <td>179</td>\n",
       "      <td>177</td>\n",
       "      <td>175</td>\n",
       "      <td>179</td>\n",
       "      <td>179</td>\n",
       "      <td>179</td>\n",
       "      <td>179</td>\n",
       "      <td>179</td>\n",
       "      <td>162</td>\n",
       "      <td>119</td>\n",
       "      <td>179</td>\n",
       "      <td>179</td>\n",
       "      <td>179</td>\n",
       "    </tr>\n",
       "  </tbody>\n",
       "</table>\n",
       "</div>"
      ],
      "text/plain": [
       "              MemberID  ProviderID  Vendor    PCP   Year  Specialty  PlaceSvc  \\\n",
       "LengthOfStay                                                                    \n",
       "1 day            56696       55550   55519  56275  56696      56531     56446   \n",
       "1- 2 weeks        1143        1053    1053   1083   1143       1134      1143   \n",
       "2 days            6485        6406    6401   6423   6485       6445      6448   \n",
       "2- 4 weeks         961         893     893    932    961        955       961   \n",
       "26+ weeks            2           0       0      1      2          2         2   \n",
       "3 days            3246        3217    3214   3228   3246       3246      3236   \n",
       "4 days            1473        1447    1447   1454   1473       1473      1473   \n",
       "4- 8 weeks         903         877     877    891    903        903       902   \n",
       "5 days             510         496     496    502    510        510       509   \n",
       "6 days             179         177     175    179    179        179       179   \n",
       "\n",
       "              PayDelay   DSFS  PrimaryConditionGroup  CharlsonIndex  \\\n",
       "LengthOfStay                                                          \n",
       "1 day            56696  52855                  55916          56696   \n",
       "1- 2 weeks        1143   1054                    991           1143   \n",
       "2 days            6485   5394                   6072           6485   \n",
       "2- 4 weeks         961    901                    908            961   \n",
       "26+ weeks            2      2                      2              2   \n",
       "3 days            3246   2789                   2991           3246   \n",
       "4 days            1473   1316                   1311           1473   \n",
       "4- 8 weeks         903    830                    846            903   \n",
       "5 days             510    464                    422            510   \n",
       "6 days             179    162                    119            179   \n",
       "\n",
       "              ProcedureGroup  SupLOS  \n",
       "LengthOfStay                          \n",
       "1 day                  56481   56696  \n",
       "1- 2 weeks              1141    1143  \n",
       "2 days                  6441    6485  \n",
       "2- 4 weeks               945     961  \n",
       "26+ weeks                  2       2  \n",
       "3 days                  3223    3246  \n",
       "4 days                  1470    1473  \n",
       "4- 8 weeks               899     903  \n",
       "5 days                   507     510  \n",
       "6 days                   179     179  "
      ]
     },
     "execution_count": 15,
     "metadata": {},
     "output_type": "execute_result"
    }
   ],
   "source": [
    "#Groupby theo giá trị của LengthOfStay\n",
    "claims.groupby(\"LengthOfStay\").count()\n",
    "#tập data not null của LengthOfStay (dùng để phân tích). Thay đổi kiểu data hiện tại của LengthOfStay theo dạng ngày để có thể dễ cho các dự đoán nếu có"
   ]
  },
  {
   "cell_type": "code",
   "execution_count": 16,
   "metadata": {},
   "outputs": [],
   "source": [
    "#tạo hàm đổi kiểu Lengthofstay\n",
    "# days thì lấy ngày, weeks thì lấy thứ tự week cao nhất trong range *7\n",
    "def convert(s):\n",
    "    try:\n",
    "        if 'day' in s:\n",
    "            return int(s[0])\n",
    "        if 'weeks' in s and s!= '26+ weeks':\n",
    "            return int(s[3])*7\n",
    "        else:\n",
    "            return 26*7\n",
    "    except:\n",
    "        pass"
   ]
  },
  {
   "cell_type": "code",
   "execution_count": 17,
   "metadata": {},
   "outputs": [
    {
     "data": {
      "text/plain": [
       "2"
      ]
     },
     "execution_count": 17,
     "metadata": {},
     "output_type": "execute_result"
    }
   ],
   "source": [
    "convert('2 days')"
   ]
  },
  {
   "cell_type": "code",
   "execution_count": 18,
   "metadata": {},
   "outputs": [],
   "source": [
    "claims['LengthOfStay']= claims[\"LengthOfStay\"].apply(lambda x: convert(x))"
   ]
  },
  {
   "cell_type": "code",
   "execution_count": 19,
   "metadata": {},
   "outputs": [
    {
     "data": {
      "text/html": [
       "<div>\n",
       "<style scoped>\n",
       "    .dataframe tbody tr th:only-of-type {\n",
       "        vertical-align: middle;\n",
       "    }\n",
       "\n",
       "    .dataframe tbody tr th {\n",
       "        vertical-align: top;\n",
       "    }\n",
       "\n",
       "    .dataframe thead th {\n",
       "        text-align: right;\n",
       "    }\n",
       "</style>\n",
       "<table border=\"1\" class=\"dataframe\">\n",
       "  <thead>\n",
       "    <tr style=\"text-align: right;\">\n",
       "      <th></th>\n",
       "      <th>MemberID</th>\n",
       "      <th>ProviderID</th>\n",
       "      <th>Vendor</th>\n",
       "      <th>PCP</th>\n",
       "      <th>Year</th>\n",
       "      <th>Specialty</th>\n",
       "      <th>PlaceSvc</th>\n",
       "      <th>PayDelay</th>\n",
       "      <th>DSFS</th>\n",
       "      <th>PrimaryConditionGroup</th>\n",
       "      <th>CharlsonIndex</th>\n",
       "      <th>ProcedureGroup</th>\n",
       "      <th>SupLOS</th>\n",
       "    </tr>\n",
       "    <tr>\n",
       "      <th>LengthOfStay</th>\n",
       "      <th></th>\n",
       "      <th></th>\n",
       "      <th></th>\n",
       "      <th></th>\n",
       "      <th></th>\n",
       "      <th></th>\n",
       "      <th></th>\n",
       "      <th></th>\n",
       "      <th></th>\n",
       "      <th></th>\n",
       "      <th></th>\n",
       "      <th></th>\n",
       "      <th></th>\n",
       "    </tr>\n",
       "  </thead>\n",
       "  <tbody>\n",
       "    <tr>\n",
       "      <th>1.000</th>\n",
       "      <td>56696</td>\n",
       "      <td>55550</td>\n",
       "      <td>55519</td>\n",
       "      <td>56275</td>\n",
       "      <td>56696</td>\n",
       "      <td>56531</td>\n",
       "      <td>56446</td>\n",
       "      <td>56696</td>\n",
       "      <td>52855</td>\n",
       "      <td>55916</td>\n",
       "      <td>56696</td>\n",
       "      <td>56481</td>\n",
       "      <td>56696</td>\n",
       "    </tr>\n",
       "    <tr>\n",
       "      <th>2.000</th>\n",
       "      <td>6485</td>\n",
       "      <td>6406</td>\n",
       "      <td>6401</td>\n",
       "      <td>6423</td>\n",
       "      <td>6485</td>\n",
       "      <td>6445</td>\n",
       "      <td>6448</td>\n",
       "      <td>6485</td>\n",
       "      <td>5394</td>\n",
       "      <td>6072</td>\n",
       "      <td>6485</td>\n",
       "      <td>6441</td>\n",
       "      <td>6485</td>\n",
       "    </tr>\n",
       "    <tr>\n",
       "      <th>3.000</th>\n",
       "      <td>3246</td>\n",
       "      <td>3217</td>\n",
       "      <td>3214</td>\n",
       "      <td>3228</td>\n",
       "      <td>3246</td>\n",
       "      <td>3246</td>\n",
       "      <td>3236</td>\n",
       "      <td>3246</td>\n",
       "      <td>2789</td>\n",
       "      <td>2991</td>\n",
       "      <td>3246</td>\n",
       "      <td>3223</td>\n",
       "      <td>3246</td>\n",
       "    </tr>\n",
       "    <tr>\n",
       "      <th>4.000</th>\n",
       "      <td>1473</td>\n",
       "      <td>1447</td>\n",
       "      <td>1447</td>\n",
       "      <td>1454</td>\n",
       "      <td>1473</td>\n",
       "      <td>1473</td>\n",
       "      <td>1473</td>\n",
       "      <td>1473</td>\n",
       "      <td>1316</td>\n",
       "      <td>1311</td>\n",
       "      <td>1473</td>\n",
       "      <td>1470</td>\n",
       "      <td>1473</td>\n",
       "    </tr>\n",
       "    <tr>\n",
       "      <th>5.000</th>\n",
       "      <td>510</td>\n",
       "      <td>496</td>\n",
       "      <td>496</td>\n",
       "      <td>502</td>\n",
       "      <td>510</td>\n",
       "      <td>510</td>\n",
       "      <td>509</td>\n",
       "      <td>510</td>\n",
       "      <td>464</td>\n",
       "      <td>422</td>\n",
       "      <td>510</td>\n",
       "      <td>507</td>\n",
       "      <td>510</td>\n",
       "    </tr>\n",
       "    <tr>\n",
       "      <th>6.000</th>\n",
       "      <td>179</td>\n",
       "      <td>177</td>\n",
       "      <td>175</td>\n",
       "      <td>179</td>\n",
       "      <td>179</td>\n",
       "      <td>179</td>\n",
       "      <td>179</td>\n",
       "      <td>179</td>\n",
       "      <td>162</td>\n",
       "      <td>119</td>\n",
       "      <td>179</td>\n",
       "      <td>179</td>\n",
       "      <td>179</td>\n",
       "    </tr>\n",
       "    <tr>\n",
       "      <th>14.000</th>\n",
       "      <td>1143</td>\n",
       "      <td>1053</td>\n",
       "      <td>1053</td>\n",
       "      <td>1083</td>\n",
       "      <td>1143</td>\n",
       "      <td>1134</td>\n",
       "      <td>1143</td>\n",
       "      <td>1143</td>\n",
       "      <td>1054</td>\n",
       "      <td>991</td>\n",
       "      <td>1143</td>\n",
       "      <td>1141</td>\n",
       "      <td>1143</td>\n",
       "    </tr>\n",
       "    <tr>\n",
       "      <th>28.000</th>\n",
       "      <td>961</td>\n",
       "      <td>893</td>\n",
       "      <td>893</td>\n",
       "      <td>932</td>\n",
       "      <td>961</td>\n",
       "      <td>955</td>\n",
       "      <td>961</td>\n",
       "      <td>961</td>\n",
       "      <td>901</td>\n",
       "      <td>908</td>\n",
       "      <td>961</td>\n",
       "      <td>945</td>\n",
       "      <td>961</td>\n",
       "    </tr>\n",
       "    <tr>\n",
       "      <th>56.000</th>\n",
       "      <td>903</td>\n",
       "      <td>877</td>\n",
       "      <td>877</td>\n",
       "      <td>891</td>\n",
       "      <td>903</td>\n",
       "      <td>903</td>\n",
       "      <td>902</td>\n",
       "      <td>903</td>\n",
       "      <td>830</td>\n",
       "      <td>846</td>\n",
       "      <td>903</td>\n",
       "      <td>899</td>\n",
       "      <td>903</td>\n",
       "    </tr>\n",
       "    <tr>\n",
       "      <th>182.000</th>\n",
       "      <td>2</td>\n",
       "      <td>0</td>\n",
       "      <td>0</td>\n",
       "      <td>1</td>\n",
       "      <td>2</td>\n",
       "      <td>2</td>\n",
       "      <td>2</td>\n",
       "      <td>2</td>\n",
       "      <td>2</td>\n",
       "      <td>2</td>\n",
       "      <td>2</td>\n",
       "      <td>2</td>\n",
       "      <td>2</td>\n",
       "    </tr>\n",
       "  </tbody>\n",
       "</table>\n",
       "</div>"
      ],
      "text/plain": [
       "              MemberID  ProviderID  Vendor    PCP   Year  Specialty  PlaceSvc  \\\n",
       "LengthOfStay                                                                    \n",
       "1.000            56696       55550   55519  56275  56696      56531     56446   \n",
       "2.000             6485        6406    6401   6423   6485       6445      6448   \n",
       "3.000             3246        3217    3214   3228   3246       3246      3236   \n",
       "4.000             1473        1447    1447   1454   1473       1473      1473   \n",
       "5.000              510         496     496    502    510        510       509   \n",
       "6.000              179         177     175    179    179        179       179   \n",
       "14.000            1143        1053    1053   1083   1143       1134      1143   \n",
       "28.000             961         893     893    932    961        955       961   \n",
       "56.000             903         877     877    891    903        903       902   \n",
       "182.000              2           0       0      1      2          2         2   \n",
       "\n",
       "              PayDelay   DSFS  PrimaryConditionGroup  CharlsonIndex  \\\n",
       "LengthOfStay                                                          \n",
       "1.000            56696  52855                  55916          56696   \n",
       "2.000             6485   5394                   6072           6485   \n",
       "3.000             3246   2789                   2991           3246   \n",
       "4.000             1473   1316                   1311           1473   \n",
       "5.000              510    464                    422            510   \n",
       "6.000              179    162                    119            179   \n",
       "14.000            1143   1054                    991           1143   \n",
       "28.000             961    901                    908            961   \n",
       "56.000             903    830                    846            903   \n",
       "182.000              2      2                      2              2   \n",
       "\n",
       "              ProcedureGroup  SupLOS  \n",
       "LengthOfStay                          \n",
       "1.000                  56481   56696  \n",
       "2.000                   6441    6485  \n",
       "3.000                   3223    3246  \n",
       "4.000                   1470    1473  \n",
       "5.000                    507     510  \n",
       "6.000                    179     179  \n",
       "14.000                  1141    1143  \n",
       "28.000                   945     961  \n",
       "56.000                   899     903  \n",
       "182.000                    2       2  "
      ]
     },
     "execution_count": 19,
     "metadata": {},
     "output_type": "execute_result"
    }
   ],
   "source": [
    "claims.groupby(\"LengthOfStay\").count()"
   ]
  },
  {
   "cell_type": "code",
   "execution_count": 20,
   "metadata": {},
   "outputs": [
    {
     "data": {
      "text/plain": [
       "count   71598.000\n",
       "mean        2.553\n",
       "std         7.055\n",
       "min         1.000\n",
       "25%         1.000\n",
       "50%         1.000\n",
       "75%         1.000\n",
       "max       182.000\n",
       "Name: LengthOfStay, dtype: float64"
      ]
     },
     "execution_count": 20,
     "metadata": {},
     "output_type": "execute_result"
    }
   ],
   "source": [
    "claims.LengthOfStay.describe()"
   ]
  },
  {
   "cell_type": "code",
   "execution_count": 21,
   "metadata": {},
   "outputs": [
    {
     "data": {
      "text/plain": [
       "<matplotlib.axes._subplots.AxesSubplot at 0x1df0de93af0>"
      ]
     },
     "execution_count": 21,
     "metadata": {},
     "output_type": "execute_result"
    },
    {
     "data": {
      "image/png": "[encoded data removed]",
      "text/plain": [
       "<Figure size 432x288 with 1 Axes>"
      ]
     },
     "metadata": {
      "needs_background": "light"
     },
     "output_type": "display_data"
    }
   ],
   "source": [
    "claim_Mem_byLOS = claims[claims.LengthOfStay.notnull()].groupby(\"MemberID\")['LengthOfStay'].sum().reset_index()\n",
    "sns.distplot(claim_Mem_byLOS[\"LengthOfStay\"])\n",
    "# Không thể kết luận distribution theo memberID, tức là nhìn chung xu hướng đa số là đi khám rất ngắn ngày, chưa chia theo bất cứ dimension nào "
   ]
  },
  {
   "cell_type": "code",
   "execution_count": 22,
   "metadata": {},
   "outputs": [
    {
     "data": {
      "text/plain": [
       "<matplotlib.axes._subplots.AxesSubplot at 0x1df0e5b2490>"
      ]
     },
     "execution_count": 22,
     "metadata": {},
     "output_type": "execute_result"
    },
    {
     "data": {
      "image/png": "[encoded data removed]",
      "text/plain": [
       "<Figure size 432x288 with 1 Axes>"
      ]
     },
     "metadata": {
      "needs_background": "light"
     },
     "output_type": "display_data"
    }
   ],
   "source": [
    "#Check về missing value của từng biến trong bảng claims\n",
    "missing = claims.isnull().sum()\n",
    "missing = missing[missing > 0]\n",
    "missing.sort_values(inplace=True)\n",
    "missing.plot.bar()\n",
    "#Không tính LOS, Condition là variables mà > 50% là missing values => Trên một tập nhỏ no missing value của Condition có thể dùng để xem bệnh nào có LOS cao hơn, nhưng cần xem thêm với các variables khác"
   ]
  },
  {
   "cell_type": "code",
   "execution_count": 23,
   "metadata": {},
   "outputs": [
    {
     "name": "stdout",
     "output_type": "stream",
     "text": [
      "['Year', 'Specialty', 'PlaceSvc', 'PayDelay', 'DSFS', 'PrimaryConditionGroup', 'CharlsonIndex', 'ProcedureGroup']\n"
     ]
    }
   ],
   "source": [
    "# kiểm tra các giá trị categorical \n",
    "cate = ['object']\n",
    "cate_columns = list (claims.select_dtypes(include = cate).columns)\n",
    "print(cate_columns)"
   ]
  },
  {
   "cell_type": "code",
   "execution_count": 24,
   "metadata": {},
   "outputs": [
    {
     "data": {
      "text/plain": [
       "Year\n",
       "Y1   2.340\n",
       "Y2   2.553\n",
       "Y3   2.746\n",
       "Name: LengthOfStay, dtype: float64"
      ]
     },
     "execution_count": 24,
     "metadata": {},
     "output_type": "execute_result"
    }
   ],
   "source": [
    "#Tìm liên hệ giữa các cột categorical với cột LOS_converted\n",
    "#for col in cate_columns:\n",
    "    #if col != 'LengthOfStay':\n",
    "claims[claims.LengthOfStay.notnull()].groupby(\"Year\").LengthOfStay.mean()"
   ]
  },
  {
   "cell_type": "code",
   "execution_count": 25,
   "metadata": {},
   "outputs": [
    {
     "data": {
      "text/plain": [
       "Specialty\n",
       "Emergency           1.097\n",
       "General Practice    1.000\n",
       "Internal            2.611\n",
       "Laboratory          1.000\n",
       "Other              22.393\n",
       "Rehabilitation     14.000\n",
       "Surgery             1.013\n",
       "Name: LengthOfStay, dtype: float64"
      ]
     },
     "execution_count": 25,
     "metadata": {},
     "output_type": "execute_result"
    }
   ],
   "source": [
    "claims[claims.LengthOfStay.notnull()].groupby(\"Specialty\").LengthOfStay.mean()\n",
    "#Số ngày nằm viện của Rehabilitation và Other cao hơn hẳn so với các phương pháp còn lại. Internal (điều trị nội trú) theo logic cao hơn mức trung bình"
   ]
  },
  {
   "cell_type": "code",
   "execution_count": 27,
   "metadata": {},
   "outputs": [
    {
     "data": {
      "text/plain": [
       "<function matplotlib.pyplot.show(*args, **kw)>"
      ]
     },
     "execution_count": 27,
     "metadata": {},
     "output_type": "execute_result"
    },
    {
     "data": {
      "image/png": "[encoded data removed]",
      "text/plain": [
       "<Figure size 720x576 with 1 Axes>"
      ]
     },
     "metadata": {
      "needs_background": "light"
     },
     "output_type": "display_data"
    }
   ],
   "source": [
    "cond1 = claims.LengthOfStay.notnull()\n",
    "cond2 = claims.Specialty.notnull()\n",
    "Spec_LOS = claims[~claims.LengthOfStay.isin(cond1) | \n",
    "           claims.Specialty.isin(cond2)]\n",
    "plt.figure(figsize = (10,8))\n",
    "sns.boxplot(x=Spec_LOS[\"LengthOfStay\"],y=Spec_LOS[\"Specialty\"],data=claims)\n",
    "plt.xticks(rotation=90)\n",
    "plt.title('Spec_LOS')\n",
    "plt.show"
   ]
  },
  {
   "cell_type": "code",
   "execution_count": 26,
   "metadata": {},
   "outputs": [
    {
     "data": {
      "text/plain": [
       "Specialty\n",
       "Emergency           10317\n",
       "General Practice       10\n",
       "Internal            42892\n",
       "Laboratory             22\n",
       "Other                1890\n",
       "Name: MemberID, dtype: int64"
      ]
     },
     "execution_count": 26,
     "metadata": {},
     "output_type": "execute_result"
    }
   ],
   "source": [
    "claims_Specmem = claims[claims.LengthOfStay.notnull()].groupby(\"Specialty\")['MemberID'].count()\n",
    "claims_Specmem.head()\n",
    "#Tuy nhiên số member thực tế trải qua Rehabilitation khá ít. Con số của Internal có vẻ thực tế hơn"
   ]
  },
  {
   "cell_type": "code",
   "execution_count": 33,
   "metadata": {},
   "outputs": [
    {
     "data": {
      "text/plain": [
       "Text(0.5, 1.0, 'Spec_byLOS')"
      ]
     },
     "execution_count": 33,
     "metadata": {},
     "output_type": "execute_result"
    },
    {
     "data": {
      "image/png": "[encoded data removed]",
      "text/plain": [
       "<Figure size 432x288 with 1 Axes>"
      ]
     },
     "metadata": {
      "needs_background": "light"
     },
     "output_type": "display_data"
    },
    {
     "data": {
      "image/png": "[encoded data removed]",
      "text/plain": [
       "<Figure size 432x288 with 1 Axes>"
      ]
     },
     "metadata": {
      "needs_background": "light"
     },
     "output_type": "display_data"
    },
    {
     "data": {
      "image/png": "[encoded data removed]",
      "text/plain": [
       "<Figure size 432x288 with 1 Axes>"
      ]
     },
     "metadata": {
      "needs_background": "light"
     },
     "output_type": "display_data"
    }
   ],
   "source": [
    "#Member_Specialty\n",
    "Spec_bymem = claims[claims.PrimaryConditionGroup.notnull()].groupby(\"MemberID\")['Specialty'].count().reset_index()\n",
    "plt.figure(figsize = (6, 4))\n",
    "sns.distplot(Spec_bymem['Specialty'])\n",
    "plt. title ('Spec_Mem')\n",
    "\n",
    "#Member_DSFS\n",
    "DSFS_bymem = claims[claims.PrimaryConditionGroup.notnull()].groupby(\"DSFS\")['MemberID'].count().reset_index()\n",
    "plt.figure(figsize = (6, 4))\n",
    "sns.distplot(DSFS_bymem['MemberID'])\n",
    "plt. title ('DSFS_mem')\n",
    "\n",
    "#Spec_LOS\n",
    "Spec_byLOS = claims[claims.PrimaryConditionGroup.notnull()].groupby(\"Specialty\")['LengthOfStay'].count().reset_index()\n",
    "plt.figure(figsize = (6, 4))\n",
    "sns.distplot(Spec_byLOS['LengthOfStay'])\n",
    "plt. title ('Spec_byLOS')"
   ]
  },
  {
   "cell_type": "code",
   "execution_count": 32,
   "metadata": {},
   "outputs": [
    {
     "data": {
      "text/plain": [
       "<function matplotlib.pyplot.show(*args, **kw)>"
      ]
     },
     "execution_count": 32,
     "metadata": {},
     "output_type": "execute_result"
    },
    {
     "data": {
      "image/png": "[encoded data removed]",
      "text/plain": [
       "<Figure size 720x576 with 1 Axes>"
      ]
     },
     "metadata": {
      "needs_background": "light"
     },
     "output_type": "display_data"
    }
   ],
   "source": [
    "cond1 = claims.LengthOfStay.notnull()\n",
    "cond2 = claims.Specialty.notnull()\n",
    "Spec_LOS = claims[~claims.LengthOfStay.isin(cond1) | \n",
    "           claims.Specialty.isin(cond2)]\n",
    "plt.figure(figsize = (10,8))\n",
    "sns.boxplot(x=claims[\"Specialty\"],y=claims[\"MemberID\"],data=claims)\n",
    "plt.xticks(rotation=90)\n",
    "plt.title('Spec_Mem')\n",
    "plt.show"
   ]
  },
  {
   "cell_type": "code",
   "execution_count": 26,
   "metadata": {},
   "outputs": [
    {
     "data": {
      "text/plain": [
       "PlaceSvc\n",
       "Ambulance              1.001\n",
       "Home                  26.608\n",
       "Inpatient Hospital     3.548\n",
       "Office                 1.000\n",
       "Other                 32.217\n",
       "Outpatient Hospital    1.689\n",
       "Urgent Care            1.106\n",
       "Name: LOS_converted, dtype: float64"
      ]
     },
     "execution_count": 26,
     "metadata": {},
     "output_type": "execute_result"
    }
   ],
   "source": [
    "claims[claims.LOS_converted.notnull()].groupby(\"PlaceSvc\").LOS_converted.mean()\n",
    "#Home (điều trị tại nhà), Other, và Inpatient Hospital (điều trị nội trú) có LOS cao hơn hẳn "
   ]
  },
  {
   "cell_type": "code",
   "execution_count": 33,
   "metadata": {},
   "outputs": [
    {
     "data": {
      "text/plain": [
       "<function matplotlib.pyplot.show(*args, **kw)>"
      ]
     },
     "execution_count": 33,
     "metadata": {},
     "output_type": "execute_result"
    },
    {
     "data": {
      "image/png": "[encoded data removed]",
      "text/plain": [
       "<Figure size 720x576 with 1 Axes>"
      ]
     },
     "metadata": {
      "needs_background": "light"
     },
     "output_type": "display_data"
    }
   ],
   "source": [
    "cond1 = claims.LengthOfStay.notnull()\n",
    "cond2 = claims.PlaceSvc.notnull()\n",
    "Spec_LOS = claims[~claims.LengthOfStay.isin(cond1) | \n",
    "           claims.PlaceSvc.isin(cond2)]\n",
    "plt.figure(figsize = (10,8))\n",
    "sns.boxplot(x=claims[\"PlaceSvc\"],y=claims[\"MemberID\"],data=claims)\n",
    "plt.xticks(rotation=90)\n",
    "plt.title('PlaceSvc_Mem')\n",
    "plt.show"
   ]
  },
  {
   "cell_type": "code",
   "execution_count": 27,
   "metadata": {},
   "outputs": [
    {
     "data": {
      "text/plain": [
       "count     2668990\n",
       "unique        163\n",
       "top             0\n",
       "freq       141451\n",
       "Name: PayDelay, dtype: object"
      ]
     },
     "execution_count": 27,
     "metadata": {},
     "output_type": "execute_result"
    }
   ],
   "source": [
    "claims[\"PayDelay\"].describe()\n",
    "#PayDelay dạng object do có ngày 162+ "
   ]
  },
  {
   "cell_type": "code",
   "execution_count": 28,
   "metadata": {},
   "outputs": [],
   "source": [
    "#hàm bỏ dấu + ở PayDelay\n",
    "def int_withoutmarks(s):\n",
    "    try:\n",
    "        if '+' in s:\n",
    "            return int(s[:-1])\n",
    "        if type(s) != int:\n",
    "            return int(s)\n",
    "    except:\n",
    "        pass"
   ]
  },
  {
   "cell_type": "code",
   "execution_count": 29,
   "metadata": {},
   "outputs": [
    {
     "data": {
      "text/plain": [
       "162"
      ]
     },
     "execution_count": 29,
     "metadata": {},
     "output_type": "execute_result"
    }
   ],
   "source": [
    "int_withoutmarks('162+')"
   ]
  },
  {
   "cell_type": "code",
   "execution_count": 30,
   "metadata": {},
   "outputs": [],
   "source": [
    "claims['PayDelay_ed']= claims[\"PayDelay\"].apply(lambda x: int_withoutmarks(x))"
   ]
  },
  {
   "cell_type": "code",
   "execution_count": 53,
   "metadata": {},
   "outputs": [
    {
     "data": {
      "text/plain": [
       "PayDelay_ed\n",
       "0      3.120\n",
       "4      1.000\n",
       "5      1.000\n",
       "6      1.000\n",
       "7      1.000\n",
       "8      1.000\n",
       "9      1.000\n",
       "10     1.143\n",
       "11     1.000\n",
       "12     1.000\n",
       "13     1.070\n",
       "14     1.029\n",
       "15     1.033\n",
       "16     1.086\n",
       "17     1.226\n",
       "18     1.333\n",
       "19     1.224\n",
       "20     1.320\n",
       "21     1.251\n",
       "22     1.183\n",
       "23     1.359\n",
       "24     1.526\n",
       "25     1.411\n",
       "26     1.727\n",
       "27     1.743\n",
       "28     1.650\n",
       "29     1.574\n",
       "30     1.653\n",
       "31     1.635\n",
       "32     1.562\n",
       "33     1.773\n",
       "34     2.215\n",
       "35     2.025\n",
       "36     2.131\n",
       "37     1.863\n",
       "38     2.000\n",
       "39     1.717\n",
       "40     2.120\n",
       "41     2.971\n",
       "42     2.395\n",
       "43     2.596\n",
       "44     2.718\n",
       "45     2.843\n",
       "46     2.345\n",
       "47     2.936\n",
       "48     4.511\n",
       "49     3.969\n",
       "50     4.191\n",
       "51     4.227\n",
       "52     5.404\n",
       "53     3.138\n",
       "54     7.174\n",
       "55    10.102\n",
       "56     6.761\n",
       "57     6.502\n",
       "58     7.378\n",
       "59     9.015\n",
       "60     4.222\n",
       "61     8.970\n",
       "62     6.176\n",
       "63     6.766\n",
       "64     6.433\n",
       "65     7.241\n",
       "66     6.263\n",
       "67     2.737\n",
       "68     4.792\n",
       "69     5.452\n",
       "70     6.236\n",
       "71     5.045\n",
       "72     3.529\n",
       "73     4.659\n",
       "74     5.769\n",
       "75     4.000\n",
       "76     4.978\n",
       "77     5.697\n",
       "78     2.779\n",
       "79     6.849\n",
       "80     6.732\n",
       "81     3.776\n",
       "82     4.298\n",
       "83     3.308\n",
       "84     5.281\n",
       "85     4.558\n",
       "86     3.358\n",
       "87     4.750\n",
       "88     3.779\n",
       "89     3.890\n",
       "90     3.427\n",
       "91     4.306\n",
       "92     4.277\n",
       "93     2.455\n",
       "94     3.913\n",
       "95     5.492\n",
       "96     3.082\n",
       "97     4.969\n",
       "98     6.821\n",
       "99     2.978\n",
       "100    3.730\n",
       "101    4.802\n",
       "102    2.957\n",
       "103    3.404\n",
       "104    4.234\n",
       "105    2.476\n",
       "106    3.333\n",
       "107    2.609\n",
       "108    2.271\n",
       "109    2.770\n",
       "110    2.918\n",
       "111    1.697\n",
       "112    1.328\n",
       "113    3.649\n",
       "114    3.723\n",
       "115    1.778\n",
       "116    1.811\n",
       "117    1.327\n",
       "118    2.492\n",
       "119    2.000\n",
       "120    2.030\n",
       "121    2.255\n",
       "122    4.057\n",
       "123    2.649\n",
       "124    1.302\n",
       "125    4.741\n",
       "126    3.511\n",
       "127    2.171\n",
       "128    1.333\n",
       "129    2.512\n",
       "130    1.793\n",
       "131    2.700\n",
       "132    6.263\n",
       "133    1.643\n",
       "134    1.163\n",
       "135    3.062\n",
       "136    1.424\n",
       "137    1.319\n",
       "138    1.200\n",
       "139    1.205\n",
       "140    1.317\n",
       "141    1.455\n",
       "142    2.510\n",
       "143    1.714\n",
       "144    2.917\n",
       "145    3.515\n",
       "146    2.146\n",
       "147    1.407\n",
       "148    1.698\n",
       "149    2.526\n",
       "150    1.375\n",
       "151    1.393\n",
       "152    2.640\n",
       "153    1.350\n",
       "154    3.000\n",
       "155    1.800\n",
       "156    5.971\n",
       "157    5.606\n",
       "158    1.200\n",
       "159    3.346\n",
       "160    3.593\n",
       "161    2.361\n",
       "162    2.204\n",
       "Name: LOS_converted, dtype: float64"
      ]
     },
     "execution_count": 53,
     "metadata": {},
     "output_type": "execute_result"
    }
   ],
   "source": [
    "claims[claims.LOS_converted.notnull()].groupby(\"PayDelay_ed\").LOS_converted.mean()"
   ]
  },
  {
   "cell_type": "code",
   "execution_count": 31,
   "metadata": {},
   "outputs": [
    {
     "data": {
      "text/plain": [
       "DSFS\n",
       "0- 1 month     2.238\n",
       "1- 2 months    2.497\n",
       "10-11 months   2.695\n",
       "11-12 months   2.531\n",
       "2- 3 months    2.500\n",
       "3- 4 months    2.807\n",
       "4- 5 months    2.841\n",
       "5- 6 months    2.759\n",
       "6- 7 months    2.830\n",
       "7- 8 months    2.731\n",
       "8- 9 months    2.711\n",
       "9-10 months    2.568\n",
       "Name: LOS_converted, dtype: float64"
      ]
     },
     "execution_count": 31,
     "metadata": {},
     "output_type": "execute_result"
    }
   ],
   "source": [
    "claims[claims.LOS_converted.notnull()].groupby(\"DSFS\").LOS_converted.mean()\n",
    "#Có thể không có sự chênh lệch đáng kể LOS giữa các bin của DSFS"
   ]
  },
  {
   "cell_type": "code",
   "execution_count": 32,
   "metadata": {},
   "outputs": [
    {
     "data": {
      "text/html": [
       "<div>\n",
       "<style scoped>\n",
       "    .dataframe tbody tr th:only-of-type {\n",
       "        vertical-align: middle;\n",
       "    }\n",
       "\n",
       "    .dataframe tbody tr th {\n",
       "        vertical-align: top;\n",
       "    }\n",
       "\n",
       "    .dataframe thead th {\n",
       "        text-align: right;\n",
       "    }\n",
       "</style>\n",
       "<table border=\"1\" class=\"dataframe\">\n",
       "  <thead>\n",
       "    <tr style=\"text-align: right;\">\n",
       "      <th></th>\n",
       "      <th>PrimaryConditionGroup</th>\n",
       "      <th>Description</th>\n",
       "    </tr>\n",
       "  </thead>\n",
       "  <tbody>\n",
       "    <tr>\n",
       "      <th>0</th>\n",
       "      <td>AMI</td>\n",
       "      <td>Acute myocardial infarction</td>\n",
       "    </tr>\n",
       "    <tr>\n",
       "      <th>1</th>\n",
       "      <td>APPCHOL</td>\n",
       "      <td>Appendicitis</td>\n",
       "    </tr>\n",
       "    <tr>\n",
       "      <th>2</th>\n",
       "      <td>ARTHSPIN</td>\n",
       "      <td>Arthropathies</td>\n",
       "    </tr>\n",
       "    <tr>\n",
       "      <th>3</th>\n",
       "      <td>CANCRA</td>\n",
       "      <td>Cancer A</td>\n",
       "    </tr>\n",
       "    <tr>\n",
       "      <th>4</th>\n",
       "      <td>CANCRB</td>\n",
       "      <td>Cancer B</td>\n",
       "    </tr>\n",
       "  </tbody>\n",
       "</table>\n",
       "</div>"
      ],
      "text/plain": [
       "  PrimaryConditionGroup                  Description\n",
       "0                   AMI  Acute myocardial infarction\n",
       "1               APPCHOL                 Appendicitis\n",
       "2              ARTHSPIN                Arthropathies\n",
       "3                CANCRA                     Cancer A\n",
       "4                CANCRB                     Cancer B"
      ]
     },
     "execution_count": 32,
     "metadata": {},
     "output_type": "execute_result"
    }
   ],
   "source": [
    "Primary_Condescription.head()"
   ]
  },
  {
   "cell_type": "code",
   "execution_count": 26,
   "metadata": {},
   "outputs": [
    {
     "data": {
      "text/plain": [
       "PrimaryConditionGroup\n",
       "AMI         2.860\n",
       "APPCHOL     1.745\n",
       "ARTHSPIN    2.310\n",
       "CANCRA      1.000\n",
       "CANCRB      6.334\n",
       "CATAST      5.633\n",
       "CHF         2.190\n",
       "COPD        1.546\n",
       "FLaELEC     1.542\n",
       "FXDISLC     1.223\n",
       "GIBLEED     1.216\n",
       "GIOBSENT    1.650\n",
       "GYNEC1      1.587\n",
       "GYNECA      1.321\n",
       "HEART2      1.575\n",
       "HEART4      1.679\n",
       "HEMTOL      1.740\n",
       "HIPFX       8.617\n",
       "INFEC4      1.989\n",
       "LIVERDZ     1.000\n",
       "METAB1      1.550\n",
       "METAB3      5.029\n",
       "MISCHRT     1.080\n",
       "MISCL1      1.391\n",
       "MISCL5      1.145\n",
       "MSC2a3      3.763\n",
       "NEUMENT     1.085\n",
       "ODaBNCA     1.117\n",
       "PERINTL     1.000\n",
       "PERVALV     5.426\n",
       "PNCRDZ      2.298\n",
       "PNEUM       4.336\n",
       "PRGNCY      2.492\n",
       "RENAL1      3.706\n",
       "RENAL2     48.257\n",
       "RENAL3      1.325\n",
       "RESPR4      1.150\n",
       "ROAMI       1.441\n",
       "SEIZURE     1.261\n",
       "SEPSIS      6.462\n",
       "SKNAUT      5.025\n",
       "STROKE     12.214\n",
       "TRAUMA      1.448\n",
       "UTI         1.494\n",
       "Name: LOS_converted, dtype: float64"
      ]
     },
     "execution_count": 26,
     "metadata": {},
     "output_type": "execute_result"
    }
   ],
   "source": [
    "claims[claims.LOS_converted.notnull()].groupby(\"PrimaryConditionGroup\").LOS_converted.mean()"
   ]
  },
  {
   "cell_type": "code",
   "execution_count": 38,
   "metadata": {},
   "outputs": [
    {
     "data": {
      "text/html": [
       "<div>\n",
       "<style scoped>\n",
       "    .dataframe tbody tr th:only-of-type {\n",
       "        vertical-align: middle;\n",
       "    }\n",
       "\n",
       "    .dataframe tbody tr th {\n",
       "        vertical-align: top;\n",
       "    }\n",
       "\n",
       "    .dataframe thead th {\n",
       "        text-align: right;\n",
       "    }\n",
       "</style>\n",
       "<table border=\"1\" class=\"dataframe\">\n",
       "  <thead>\n",
       "    <tr style=\"text-align: right;\">\n",
       "      <th></th>\n",
       "      <th>LOS_count</th>\n",
       "      <th>MemberID</th>\n",
       "      <th>LOS_mean</th>\n",
       "    </tr>\n",
       "    <tr>\n",
       "      <th>PrimaryConditionGroup</th>\n",
       "      <th></th>\n",
       "      <th></th>\n",
       "      <th></th>\n",
       "    </tr>\n",
       "  </thead>\n",
       "  <tbody>\n",
       "    <tr>\n",
       "      <th>RENAL2</th>\n",
       "      <td>35614.000</td>\n",
       "      <td>738</td>\n",
       "      <td>48.257</td>\n",
       "    </tr>\n",
       "    <tr>\n",
       "      <th>STROKE</th>\n",
       "      <td>4556.000</td>\n",
       "      <td>373</td>\n",
       "      <td>12.214</td>\n",
       "    </tr>\n",
       "    <tr>\n",
       "      <th>HIPFX</th>\n",
       "      <td>2292.000</td>\n",
       "      <td>266</td>\n",
       "      <td>8.617</td>\n",
       "    </tr>\n",
       "    <tr>\n",
       "      <th>SEPSIS</th>\n",
       "      <td>168.000</td>\n",
       "      <td>26</td>\n",
       "      <td>6.462</td>\n",
       "    </tr>\n",
       "    <tr>\n",
       "      <th>CANCRB</th>\n",
       "      <td>3072.000</td>\n",
       "      <td>485</td>\n",
       "      <td>6.334</td>\n",
       "    </tr>\n",
       "    <tr>\n",
       "      <th>CATAST</th>\n",
       "      <td>338.000</td>\n",
       "      <td>60</td>\n",
       "      <td>5.633</td>\n",
       "    </tr>\n",
       "    <tr>\n",
       "      <th>PERVALV</th>\n",
       "      <td>293.000</td>\n",
       "      <td>54</td>\n",
       "      <td>5.426</td>\n",
       "    </tr>\n",
       "    <tr>\n",
       "      <th>METAB3</th>\n",
       "      <td>2288.000</td>\n",
       "      <td>455</td>\n",
       "      <td>5.029</td>\n",
       "    </tr>\n",
       "    <tr>\n",
       "      <th>SKNAUT</th>\n",
       "      <td>4236.000</td>\n",
       "      <td>843</td>\n",
       "      <td>5.025</td>\n",
       "    </tr>\n",
       "    <tr>\n",
       "      <th>PNEUM</th>\n",
       "      <td>2155.000</td>\n",
       "      <td>497</td>\n",
       "      <td>4.336</td>\n",
       "    </tr>\n",
       "    <tr>\n",
       "      <th>MSC2a3</th>\n",
       "      <td>26972.000</td>\n",
       "      <td>7167</td>\n",
       "      <td>3.763</td>\n",
       "    </tr>\n",
       "    <tr>\n",
       "      <th>RENAL1</th>\n",
       "      <td>63.000</td>\n",
       "      <td>17</td>\n",
       "      <td>3.706</td>\n",
       "    </tr>\n",
       "    <tr>\n",
       "      <th>AMI</th>\n",
       "      <td>3595.000</td>\n",
       "      <td>1257</td>\n",
       "      <td>2.860</td>\n",
       "    </tr>\n",
       "    <tr>\n",
       "      <th>PRGNCY</th>\n",
       "      <td>6612.000</td>\n",
       "      <td>2653</td>\n",
       "      <td>2.492</td>\n",
       "    </tr>\n",
       "    <tr>\n",
       "      <th>ARTHSPIN</th>\n",
       "      <td>14573.000</td>\n",
       "      <td>6309</td>\n",
       "      <td>2.310</td>\n",
       "    </tr>\n",
       "    <tr>\n",
       "      <th>PNCRDZ</th>\n",
       "      <td>131.000</td>\n",
       "      <td>57</td>\n",
       "      <td>2.298</td>\n",
       "    </tr>\n",
       "    <tr>\n",
       "      <th>CHF</th>\n",
       "      <td>392.000</td>\n",
       "      <td>179</td>\n",
       "      <td>2.190</td>\n",
       "    </tr>\n",
       "    <tr>\n",
       "      <th>INFEC4</th>\n",
       "      <td>4190.000</td>\n",
       "      <td>2107</td>\n",
       "      <td>1.989</td>\n",
       "    </tr>\n",
       "    <tr>\n",
       "      <th>APPCHOL</th>\n",
       "      <td>4002.000</td>\n",
       "      <td>2293</td>\n",
       "      <td>1.745</td>\n",
       "    </tr>\n",
       "    <tr>\n",
       "      <th>HEMTOL</th>\n",
       "      <td>388.000</td>\n",
       "      <td>223</td>\n",
       "      <td>1.740</td>\n",
       "    </tr>\n",
       "    <tr>\n",
       "      <th>HEART4</th>\n",
       "      <td>1652.000</td>\n",
       "      <td>984</td>\n",
       "      <td>1.679</td>\n",
       "    </tr>\n",
       "    <tr>\n",
       "      <th>GIOBSENT</th>\n",
       "      <td>1145.000</td>\n",
       "      <td>694</td>\n",
       "      <td>1.650</td>\n",
       "    </tr>\n",
       "    <tr>\n",
       "      <th>GYNEC1</th>\n",
       "      <td>2719.000</td>\n",
       "      <td>1713</td>\n",
       "      <td>1.587</td>\n",
       "    </tr>\n",
       "    <tr>\n",
       "      <th>HEART2</th>\n",
       "      <td>1369.000</td>\n",
       "      <td>869</td>\n",
       "      <td>1.575</td>\n",
       "    </tr>\n",
       "    <tr>\n",
       "      <th>METAB1</th>\n",
       "      <td>358.000</td>\n",
       "      <td>231</td>\n",
       "      <td>1.550</td>\n",
       "    </tr>\n",
       "    <tr>\n",
       "      <th>COPD</th>\n",
       "      <td>1552.000</td>\n",
       "      <td>1004</td>\n",
       "      <td>1.546</td>\n",
       "    </tr>\n",
       "    <tr>\n",
       "      <th>FLaELEC</th>\n",
       "      <td>441.000</td>\n",
       "      <td>286</td>\n",
       "      <td>1.542</td>\n",
       "    </tr>\n",
       "    <tr>\n",
       "      <th>UTI</th>\n",
       "      <td>1569.000</td>\n",
       "      <td>1050</td>\n",
       "      <td>1.494</td>\n",
       "    </tr>\n",
       "    <tr>\n",
       "      <th>TRAUMA</th>\n",
       "      <td>9457.000</td>\n",
       "      <td>6532</td>\n",
       "      <td>1.448</td>\n",
       "    </tr>\n",
       "    <tr>\n",
       "      <th>ROAMI</th>\n",
       "      <td>3055.000</td>\n",
       "      <td>2120</td>\n",
       "      <td>1.441</td>\n",
       "    </tr>\n",
       "    <tr>\n",
       "      <th>MISCL1</th>\n",
       "      <td>637.000</td>\n",
       "      <td>458</td>\n",
       "      <td>1.391</td>\n",
       "    </tr>\n",
       "    <tr>\n",
       "      <th>RENAL3</th>\n",
       "      <td>2162.000</td>\n",
       "      <td>1632</td>\n",
       "      <td>1.325</td>\n",
       "    </tr>\n",
       "    <tr>\n",
       "      <th>GYNECA</th>\n",
       "      <td>140.000</td>\n",
       "      <td>106</td>\n",
       "      <td>1.321</td>\n",
       "    </tr>\n",
       "    <tr>\n",
       "      <th>SEIZURE</th>\n",
       "      <td>1693.000</td>\n",
       "      <td>1343</td>\n",
       "      <td>1.261</td>\n",
       "    </tr>\n",
       "    <tr>\n",
       "      <th>FXDISLC</th>\n",
       "      <td>2689.000</td>\n",
       "      <td>2199</td>\n",
       "      <td>1.223</td>\n",
       "    </tr>\n",
       "    <tr>\n",
       "      <th>GIBLEED</th>\n",
       "      <td>9516.000</td>\n",
       "      <td>7828</td>\n",
       "      <td>1.216</td>\n",
       "    </tr>\n",
       "    <tr>\n",
       "      <th>RESPR4</th>\n",
       "      <td>2767.000</td>\n",
       "      <td>2407</td>\n",
       "      <td>1.150</td>\n",
       "    </tr>\n",
       "    <tr>\n",
       "      <th>MISCL5</th>\n",
       "      <td>1964.000</td>\n",
       "      <td>1715</td>\n",
       "      <td>1.145</td>\n",
       "    </tr>\n",
       "    <tr>\n",
       "      <th>ODaBNCA</th>\n",
       "      <td>3541.000</td>\n",
       "      <td>3169</td>\n",
       "      <td>1.117</td>\n",
       "    </tr>\n",
       "    <tr>\n",
       "      <th>NEUMENT</th>\n",
       "      <td>7201.000</td>\n",
       "      <td>6635</td>\n",
       "      <td>1.085</td>\n",
       "    </tr>\n",
       "    <tr>\n",
       "      <th>MISCHRT</th>\n",
       "      <td>511.000</td>\n",
       "      <td>473</td>\n",
       "      <td>1.080</td>\n",
       "    </tr>\n",
       "    <tr>\n",
       "      <th>PERINTL</th>\n",
       "      <td>9.000</td>\n",
       "      <td>9</td>\n",
       "      <td>1.000</td>\n",
       "    </tr>\n",
       "    <tr>\n",
       "      <th>LIVERDZ</th>\n",
       "      <td>31.000</td>\n",
       "      <td>31</td>\n",
       "      <td>1.000</td>\n",
       "    </tr>\n",
       "    <tr>\n",
       "      <th>CANCRA</th>\n",
       "      <td>31.000</td>\n",
       "      <td>31</td>\n",
       "      <td>1.000</td>\n",
       "    </tr>\n",
       "  </tbody>\n",
       "</table>\n",
       "</div>"
      ],
      "text/plain": [
       "                       LOS_count  MemberID  LOS_mean\n",
       "PrimaryConditionGroup                               \n",
       "RENAL2                 35614.000       738    48.257\n",
       "STROKE                  4556.000       373    12.214\n",
       "HIPFX                   2292.000       266     8.617\n",
       "SEPSIS                   168.000        26     6.462\n",
       "CANCRB                  3072.000       485     6.334\n",
       "CATAST                   338.000        60     5.633\n",
       "PERVALV                  293.000        54     5.426\n",
       "METAB3                  2288.000       455     5.029\n",
       "SKNAUT                  4236.000       843     5.025\n",
       "PNEUM                   2155.000       497     4.336\n",
       "MSC2a3                 26972.000      7167     3.763\n",
       "RENAL1                    63.000        17     3.706\n",
       "AMI                     3595.000      1257     2.860\n",
       "PRGNCY                  6612.000      2653     2.492\n",
       "ARTHSPIN               14573.000      6309     2.310\n",
       "PNCRDZ                   131.000        57     2.298\n",
       "CHF                      392.000       179     2.190\n",
       "INFEC4                  4190.000      2107     1.989\n",
       "APPCHOL                 4002.000      2293     1.745\n",
       "HEMTOL                   388.000       223     1.740\n",
       "HEART4                  1652.000       984     1.679\n",
       "GIOBSENT                1145.000       694     1.650\n",
       "GYNEC1                  2719.000      1713     1.587\n",
       "HEART2                  1369.000       869     1.575\n",
       "METAB1                   358.000       231     1.550\n",
       "COPD                    1552.000      1004     1.546\n",
       "FLaELEC                  441.000       286     1.542\n",
       "UTI                     1569.000      1050     1.494\n",
       "TRAUMA                  9457.000      6532     1.448\n",
       "ROAMI                   3055.000      2120     1.441\n",
       "MISCL1                   637.000       458     1.391\n",
       "RENAL3                  2162.000      1632     1.325\n",
       "GYNECA                   140.000       106     1.321\n",
       "SEIZURE                 1693.000      1343     1.261\n",
       "FXDISLC                 2689.000      2199     1.223\n",
       "GIBLEED                 9516.000      7828     1.216\n",
       "RESPR4                  2767.000      2407     1.150\n",
       "MISCL5                  1964.000      1715     1.145\n",
       "ODaBNCA                 3541.000      3169     1.117\n",
       "NEUMENT                 7201.000      6635     1.085\n",
       "MISCHRT                  511.000       473     1.080\n",
       "PERINTL                    9.000         9     1.000\n",
       "LIVERDZ                   31.000        31     1.000\n",
       "CANCRA                    31.000        31     1.000"
      ]
     },
     "execution_count": 38,
     "metadata": {},
     "output_type": "execute_result"
    }
   ],
   "source": [
    "#Tạo bảng giữa condition và số lượng member, số lượng ngày nằm viện và so sánh quan hệ. Tất cả đều chỉ tính trên những dòng có LOS\n",
    "claims1 = claims[claims.LOS_converted.notnull()].groupby(\"PrimaryConditionGroup\")['LOS_converted'].sum()\n",
    "\n",
    "claims2 = claims[claims.LOS_converted.notnull()].groupby(\"PrimaryConditionGroup\")['MemberID'].count()\n",
    "\n",
    "claim_merge1 = pd.merge(claims1, claims2, on=['PrimaryConditionGroup'])\n",
    "\n",
    "claims3 = claims[claims.LOS_converted.notnull()].groupby(\"PrimaryConditionGroup\").LOS_converted.mean()\n",
    "\n",
    "claim_merge2 = pd.merge(claim_merge1,claims3, on=['PrimaryConditionGroup'])\n",
    "\n",
    "claim_merge2.rename(columns={\"LOS_converted_x\": \"LOS_count\", \"LOS_converted_y\": \"LOS_mean\"},inplace=True)\n",
    "\n",
    "#Filter theo: LOS_count > 10000 ngày hoặc LOS_mean > 2 ngày\n",
    "#2 điều kiện\n",
    "cond1 = claim_merge2.LOS_count >= 10000\n",
    "cond2 = claim_merge2.LOS_mean >=2\n",
    "claim_merge2cond = claim_merge2[~claim_merge2.LOS_count.isin(cond1) | \n",
    "           claim_merge2.LOS_mean.isin(cond2)]\n",
    "#Xếp giảm dần theo LOS_mean\n",
    "sort_by_LOS_mean = claim_merge2cond.sort_values('LOS_mean',ascending=False)\n",
    "sort_by_LOS_mean\n",
    "\n",
    "#Các condition đáng chú ý (tổng nhiều ngày nằm viện và trung bình 1 người nằm nhiều)\n",
    "#RENAL2 (suy thận mãn tính), \n",
    "#STROKE (đứt mạch máu não), \n",
    "#HIPFX(gãy xương hông), \n",
    "#SEPSIS (giảm huyết áp đột ngột do chấn thương), \n",
    "#CANCRB (ung thư có di căn, hoặc Hodgkin và có xạ hóa trị)\n",
    "\n"
   ]
  },
  {
   "cell_type": "code",
   "execution_count": 33,
   "metadata": {},
   "outputs": [
    {
     "data": {
      "text/plain": [
       "<matplotlib.axes._subplots.AxesSubplot at 0x1fc015a28b0>"
      ]
     },
     "execution_count": 33,
     "metadata": {},
     "output_type": "execute_result"
    },
    {
     "data": {
      "image/png": "[encoded data removed]",
      "text/plain": [
       "<Figure size 432x288 with 1 Axes>"
      ]
     },
     "metadata": {
      "needs_background": "light"
     },
     "output_type": "display_data"
    }
   ],
   "source": [
    "Condition_bymem = claims[claims.PrimaryConditionGroup.notnull()].groupby(\"MemberID\")['PrimaryConditionGroup'].count().reset_index()\n",
    "sns.distplot(Condition_bymem['PrimaryConditionGroup'])\n"
   ]
  },
  {
   "cell_type": "code",
   "execution_count": 85,
   "metadata": {},
   "outputs": [
    {
     "data": {
      "text/plain": [
       "<function matplotlib.pyplot.show(*args, **kw)>"
      ]
     },
     "execution_count": 85,
     "metadata": {},
     "output_type": "execute_result"
    },
    {
     "data": {
      "image/png": "[encoded data removed]",
      "text/plain": [
       "<Figure size 864x576 with 1 Axes>"
      ]
     },
     "metadata": {
      "needs_background": "light"
     },
     "output_type": "display_data"
    }
   ],
   "source": [
    "cond1 = claims.LOS_converted.notnull()\n",
    "cond2 = claims.PrimaryConditionGroup.notnull()\n",
    "CondGroup_LOS = claims[~claims.LOS_converted.isin(cond1) | \n",
    "           claims.PrimaryConditionGroup.isin(cond2)]\n",
    "plt.figure(figsize = (12,8))\n",
    "sns.boxplot(x=CondGroup_LOS[\"PrimaryConditionGroup\"],y=CondGroup_LOS[\"LOS_converted\"],data=claims)\n",
    "plt.title('Primary_ConditionGroup')\n",
    "plt.show"
   ]
  },
  {
   "cell_type": "code",
   "execution_count": 72,
   "metadata": {},
   "outputs": [
    {
     "data": {
      "text/plain": [
       "CharlsonIndex\n",
       "0     1.647\n",
       "1-2   3.642\n",
       "3-4   7.133\n",
       "5+    2.471\n",
       "Name: LOS_converted, dtype: float64"
      ]
     },
     "execution_count": 72,
     "metadata": {},
     "output_type": "execute_result"
    }
   ],
   "source": [
    "claims[claims.LOS_converted.notnull()].groupby(\"CharlsonIndex\").LOS_converted.mean()"
   ]
  },
  {
   "cell_type": "code",
   "execution_count": 79,
   "metadata": {},
   "outputs": [
    {
     "data": {
      "text/plain": [
       "<function matplotlib.pyplot.show(*args, **kw)>"
      ]
     },
     "execution_count": 79,
     "metadata": {},
     "output_type": "execute_result"
    },
    {
     "data": {
      "image/png": "[encoded data removed]",
      "text/plain": [
       "<Figure size 720x576 with 1 Axes>"
      ]
     },
     "metadata": {
      "needs_background": "light"
     },
     "output_type": "display_data"
    }
   ],
   "source": [
    "#Sự liên quan giữa Charlson Index và LOS\n",
    "cond1 = claims.LOS_converted.notnull()\n",
    "cond2 = claims.CharlsonIndex.notnull()\n",
    "Charlson_LOS = claims[~claims.LOS_converted.isin(cond1) | \n",
    "           claims.CharlsonIndex.isin(cond2)]\n",
    "plt.figure(figsize = (10,8))\n",
    "sns.boxplot(x=Charlson_LOS[\"CharlsonIndex\"],y=Charlson_LOS[\"LOS_converted\"],data=claims)\n",
    "plt.title('Charlson_Index')\n",
    "plt.show"
   ]
  },
  {
   "cell_type": "code",
   "execution_count": 55,
   "metadata": {},
   "outputs": [
    {
     "data": {
      "text/plain": [
       "ProcedureGroup\n",
       "ANES    2.350\n",
       "EM      7.722\n",
       "MED     3.457\n",
       "PL     46.844\n",
       "RAD     1.305\n",
       "SCS     1.269\n",
       "SDS     1.539\n",
       "SEOA    3.034\n",
       "SGS    25.842\n",
       "SIS     4.673\n",
       "SMS     2.577\n",
       "SNS    10.956\n",
       "SO      1.156\n",
       "SRS     1.139\n",
       "SUS     1.644\n",
       "Name: LOS_converted, dtype: float64"
      ]
     },
     "execution_count": 55,
     "metadata": {},
     "output_type": "execute_result"
    }
   ],
   "source": [
    "claims[claims.LOS_converted.notnull()].groupby(\"ProcedureGroup\").LOS_converted.mean()"
   ]
  },
  {
   "cell_type": "code",
   "execution_count": null,
   "metadata": {},
   "outputs": [],
   "source": []
  }
 ],
 "metadata": {
  "kernelspec": {
   "display_name": "Python 3",
   "language": "python",
   "name": "python3"
  },
  "language_info": {
   "codemirror_mode": {
    "name": "ipython",
    "version": 3
   },
   "file_extension": ".py",
   "mimetype": "text/x-python",
   "name": "python",
   "nbconvert_exporter": "python",
   "pygments_lexer": "ipython3",
   "version": "3.8.3"
  }
 },
 "nbformat": 4,
 "nbformat_minor": 4
}
